{
 "cells": [
  {
   "cell_type": "markdown",
   "metadata": {},
   "source": [
    "# Pytorch Lightning Introduction\n",
    "\n",
    "Welcome to the introduction to [`PyTorchLightning`](https://www.pytorchlightning.ai/). PyTorch Lightning is a wrapper for PyTorch that is focused towards building neural networks model quickly by removing the boilerplate code. It also extends the functionality of PyTorch, for example, with model Callbacks and automatic porting to GPU to accelerate computations.\n",
    "\n",
    "In its essence, pytorch lightning provides a controlled setup where you are forced to in its specific partly automated library setup, but are able to customize/de-automatate each process if you so desire. You can both rely on a variety of already implemented functionalities and the fact that your code is by definition structured clearly, but at the cost of having to delve into their code structure and figuring out which functions to use.\n",
    "\n",
    "Our suggestion is to try it out. If you like it, cool, otherwise you can just stick to pytorch and build up your own library of functions you will use throughout your Deep Learning journey.\n",
    "\n",
    "Let's get started by installing PyTorch Lightning."
   ]
  },
  {
   "cell_type": "markdown",
   "metadata": {},
   "source": [
    "## (Optional) Mount folder in Colab\n",
    "\n",
    "Uncomment thefollowing cell to mount your gdrive if you are using the notebook in google colab:"
   ]
  },
  {
   "cell_type": "code",
   "execution_count": null,
   "metadata": {},
   "outputs": [],
   "source": [
    "\"\"\"\n",
    "from google.colab import drive\n",
    "import os\n",
    "\n",
    "gdrive_path='/content/gdrive/MyDrive/i2dl/exercise_07'\n",
    "\n",
    "# This will mount your google drive under 'MyDrive'\n",
    "drive.mount('/content/gdrive', force_remount=True)\n",
    "# In order to access the files in this notebook we have to navigate to the correct folder\n",
    "os.chdir(gdrive_path)\n",
    "# Check manually if all files are present\n",
    "print(sorted(os.listdir()))\n",
    "\"\"\""
   ]
  },
  {
   "cell_type": "code",
   "execution_count": null,
   "metadata": {},
   "outputs": [],
   "source": [
    "# Optional: install correct libraries in google colab\n",
    "# !python -m pip install torch==1.11.0+cu113 torchvision==0.12.0+cu113 -f https://download.pytorch.org/whl/torch_stable.html\n",
    "# !python -m pip install tensorboard==2.9.1"
   ]
  },
  {
   "cell_type": "markdown",
   "metadata": {},
   "source": [
    "### Installing Pytorch Lightning"
   ]
  },
  {
   "cell_type": "code",
   "execution_count": 1,
   "metadata": {},
   "outputs": [],
   "source": [
    "# For automatic file reloading as usual\n",
    "%load_ext autoreload\n",
    "%autoreload 2\n",
    "%matplotlib inline"
   ]
  },
  {
   "cell_type": "code",
   "execution_count": 2,
   "metadata": {},
   "outputs": [
    {
     "name": "stdout",
     "output_type": "stream",
     "text": [
      "Collecting pytorch-lightning==1.6.0\n",
      "  Using cached pytorch_lightning-1.6.0-py3-none-any.whl (582 kB)\n",
      "Collecting torch>=1.8.*\n",
      "  Using cached torch-1.11.0-cp310-cp310-manylinux1_x86_64.whl (750.6 MB)\n",
      "Collecting tqdm>=4.41.0\n",
      "  Using cached tqdm-4.64.0-py2.py3-none-any.whl (78 kB)\n",
      "Collecting tensorboard>=2.2.0\n",
      "  Using cached tensorboard-2.9.1-py3-none-any.whl (5.8 MB)\n",
      "Collecting packaging>=17.0\n",
      "  Using cached packaging-21.3-py3-none-any.whl (40 kB)\n",
      "Collecting typing-extensions>=4.0.0\n",
      "  Using cached typing_extensions-4.2.0-py3-none-any.whl (24 kB)\n",
      "Collecting torchmetrics>=0.4.1\n",
      "  Using cached torchmetrics-0.9.1-py3-none-any.whl (419 kB)\n",
      "Collecting numpy>=1.17.2\n",
      "  Using cached numpy-1.22.4-cp310-cp310-manylinux_2_17_x86_64.manylinux2014_x86_64.whl (16.8 MB)\n",
      "Collecting pyDeprecate<0.4.0,>=0.3.1\n",
      "  Using cached pyDeprecate-0.3.2-py3-none-any.whl (10 kB)\n",
      "Collecting PyYAML>=5.4\n",
      "  Using cached PyYAML-6.0-cp310-cp310-manylinux_2_5_x86_64.manylinux1_x86_64.manylinux_2_12_x86_64.manylinux2010_x86_64.whl (682 kB)\n",
      "Collecting fsspec[http]!=2021.06.0,>=2021.05.0\n",
      "  Using cached fsspec-2022.5.0-py3-none-any.whl (140 kB)\n",
      "Collecting aiohttp\n",
      "  Using cached aiohttp-3.8.1-cp310-cp310-manylinux_2_5_x86_64.manylinux1_x86_64.manylinux_2_12_x86_64.manylinux2010_x86_64.whl (1.2 MB)\n",
      "Collecting requests\n",
      "  Using cached requests-2.28.0-py3-none-any.whl (62 kB)\n",
      "Collecting pyparsing!=3.0.5,>=2.0.2\n",
      "  Using cached pyparsing-3.0.9-py3-none-any.whl (98 kB)\n",
      "Collecting protobuf<3.20,>=3.9.2\n",
      "  Using cached protobuf-3.19.4-cp310-cp310-manylinux_2_17_x86_64.manylinux2014_x86_64.whl (1.1 MB)\n",
      "Collecting google-auth<3,>=1.6.3\n",
      "  Using cached google_auth-2.8.0-py2.py3-none-any.whl (164 kB)\n",
      "Collecting google-auth-oauthlib<0.5,>=0.4.1\n",
      "  Using cached google_auth_oauthlib-0.4.6-py2.py3-none-any.whl (18 kB)\n",
      "Collecting tensorboard-plugin-wit>=1.6.0\n",
      "  Using cached tensorboard_plugin_wit-1.8.1-py3-none-any.whl (781 kB)\n",
      "Collecting werkzeug>=1.0.1\n",
      "  Using cached Werkzeug-2.1.2-py3-none-any.whl (224 kB)\n",
      "Collecting markdown>=2.6.8\n",
      "  Using cached Markdown-3.3.7-py3-none-any.whl (97 kB)\n",
      "Collecting wheel>=0.26\n",
      "  Using cached wheel-0.37.1-py2.py3-none-any.whl (35 kB)\n",
      "Collecting setuptools>=41.0.0\n",
      "  Using cached setuptools-62.6.0-py3-none-any.whl (1.2 MB)\n",
      "Collecting grpcio>=1.24.3\n",
      "  Using cached grpcio-1.46.3-cp310-cp310-manylinux_2_17_x86_64.manylinux2014_x86_64.whl (4.4 MB)\n",
      "Collecting tensorboard-data-server<0.7.0,>=0.6.0\n",
      "  Using cached tensorboard_data_server-0.6.1-py3-none-manylinux2010_x86_64.whl (4.9 MB)\n",
      "Collecting absl-py>=0.4\n",
      "  Using cached absl_py-1.1.0-py3-none-any.whl (123 kB)\n",
      "Collecting rsa<5,>=3.1.4\n",
      "  Using cached rsa-4.8-py3-none-any.whl (39 kB)\n",
      "Collecting six>=1.9.0\n",
      "  Using cached six-1.16.0-py2.py3-none-any.whl (11 kB)\n",
      "Collecting pyasn1-modules>=0.2.1\n",
      "  Using cached pyasn1_modules-0.2.8-py2.py3-none-any.whl (155 kB)\n",
      "Collecting cachetools<6.0,>=2.0.0\n",
      "  Using cached cachetools-5.2.0-py3-none-any.whl (9.3 kB)\n",
      "Collecting requests-oauthlib>=0.7.0\n",
      "  Using cached requests_oauthlib-1.3.1-py2.py3-none-any.whl (23 kB)\n",
      "Collecting certifi>=2017.4.17\n",
      "  Using cached certifi-2022.6.15-py3-none-any.whl (160 kB)\n",
      "Collecting charset-normalizer~=2.0.0\n",
      "  Using cached charset_normalizer-2.0.12-py3-none-any.whl (39 kB)\n",
      "Collecting urllib3<1.27,>=1.21.1\n",
      "  Using cached urllib3-1.26.9-py2.py3-none-any.whl (138 kB)\n",
      "Collecting idna<4,>=2.5\n",
      "  Using cached idna-3.3-py3-none-any.whl (61 kB)\n",
      "Collecting yarl<2.0,>=1.0\n",
      "  Using cached yarl-1.7.2-cp310-cp310-manylinux_2_5_x86_64.manylinux1_x86_64.manylinux_2_12_x86_64.manylinux2010_x86_64.whl (305 kB)\n",
      "Collecting multidict<7.0,>=4.5\n",
      "  Using cached multidict-6.0.2-cp310-cp310-manylinux_2_17_x86_64.manylinux2014_x86_64.whl (114 kB)\n",
      "Collecting frozenlist>=1.1.1\n",
      "  Using cached frozenlist-1.3.0-cp310-cp310-manylinux_2_5_x86_64.manylinux1_x86_64.manylinux_2_17_x86_64.manylinux2014_x86_64.whl (157 kB)\n",
      "Collecting aiosignal>=1.1.2\n",
      "  Using cached aiosignal-1.2.0-py3-none-any.whl (8.2 kB)\n",
      "Collecting async-timeout<5.0,>=4.0.0a3\n",
      "  Using cached async_timeout-4.0.2-py3-none-any.whl (5.8 kB)\n",
      "Collecting attrs>=17.3.0\n",
      "  Using cached attrs-21.4.0-py2.py3-none-any.whl (60 kB)\n",
      "Collecting pyasn1<0.5.0,>=0.4.6\n",
      "  Using cached pyasn1-0.4.8-py2.py3-none-any.whl (77 kB)\n",
      "Collecting oauthlib>=3.0.0\n",
      "  Using cached oauthlib-3.2.0-py3-none-any.whl (151 kB)\n",
      "Installing collected packages: tensorboard-plugin-wit, pyasn1, wheel, werkzeug, urllib3, typing-extensions, tqdm, tensorboard-data-server, six, setuptools, rsa, PyYAML, pyparsing, pyDeprecate, pyasn1-modules, protobuf, oauthlib, numpy, multidict, markdown, idna, fsspec, frozenlist, charset-normalizer, certifi, cachetools, attrs, async-timeout, absl-py, yarl, torch, requests, packaging, grpcio, google-auth, aiosignal, torchmetrics, requests-oauthlib, aiohttp, google-auth-oauthlib, tensorboard, pytorch-lightning\n",
      "Successfully installed PyYAML-6.0 absl-py-1.1.0 aiohttp-3.8.1 aiosignal-1.2.0 async-timeout-4.0.2 attrs-21.4.0 cachetools-5.2.0 certifi-2022.6.15 charset-normalizer-2.0.12 frozenlist-1.3.0 fsspec-2022.5.0 google-auth-2.8.0 google-auth-oauthlib-0.4.6 grpcio-1.46.3 idna-3.3 markdown-3.3.7 multidict-6.0.2 numpy-1.22.4 oauthlib-3.2.0 packaging-21.3 protobuf-3.19.4 pyDeprecate-0.3.2 pyasn1-0.4.8 pyasn1-modules-0.2.8 pyparsing-3.0.9 pytorch-lightning-1.6.0 requests-2.28.0 requests-oauthlib-1.3.1 rsa-4.8 setuptools-62.6.0 six-1.16.0 tensorboard-2.9.1 tensorboard-data-server-0.6.1 tensorboard-plugin-wit-1.8.1 torch-1.11.0+cpu torchmetrics-0.9.1 tqdm-4.64.0 typing-extensions-4.2.0 urllib3-1.26.9 werkzeug-2.1.2 wheel-0.37.1 yarl-1.7.2\n",
      "\u001b[33mWARNING: You are using pip version 22.0.4; however, version 22.1.2 is available.\n",
      "You should consider upgrading via the '/home/vikaskurapati/anaconda3/envs/i2dl/bin/python -m pip install --upgrade pip' command.\u001b[0m\u001b[33m\n",
      "\u001b[0m"
     ]
    }
   ],
   "source": [
    "import sys\n",
    "\n",
    "# For google colab\n",
    "# !python -m pip install pytorch-lightning==1.6.0 > /dev/null\n",
    "\n",
    "# For anaconda/regular python\n",
    "#!{sys.executable} -m pip install --ignore-installed pytorch-lightning==1.6.0"
   ]
  },
  {
   "cell_type": "code",
   "execution_count": 3,
   "metadata": {},
   "outputs": [
    {
     "name": "stdout",
     "output_type": "stream",
     "text": [
      "Lightning version: 1.6.0\n",
      "Tensorboard version: 2.9.1\n",
      "PyTorch version Installed: 1.11.0+cu102\n",
      "Torchvision version Installed: 0.12.0+cpu\n",
      "\n"
     ]
    }
   ],
   "source": [
    "import pytorch_lightning as pl\n",
    "print(f\"Lightning version: {pl.__version__}\")\n",
    "# if not pl.__version__.startswith(\"1.6\"):\n",
    "#     print(\"You are using another version of pytorch lightning. We expect pytorch lightning 1.6.0. You can continue with your version but it\"\n",
    "#           \" might cause dependency and compatibility issues.\")\n",
    "\n",
    "import tensorboard\n",
    "import torch\n",
    "import torchvision\n",
    "print(f\"Tensorboard version: {tensorboard.__version__}\")\n",
    "if not tensorboard.__version__.startswith(\"2.9.1\"):\n",
    "    print(\"You are using an another version of Tensorboard. We expect Tensorboard 2.9.1 You may continue using your version but it\"\n",
    "          \" might cause dependency and compatibility issues.\")\n",
    "print(f\"PyTorch version Installed: {torch.__version__}\\nTorchvision version Installed: {torchvision.__version__}\\n\")\n",
    "if not torch.__version__.startswith(\"1.11\"):\n",
    "    print(\"you are using an another version of PyTorch. We expect PyTorch 1.11.0. You may continue using your version but it\"\n",
    "          \" might cause dependency and compatibility issues.\")\n",
    "if not torchvision.__version__.startswith(\"0.12\"):\n",
    "    print(\"you are using an another version of torchvision. We expect torchvision 0.12. You can continue with your version but it\"\n",
    "          \" might cause dependency and compatibility issues.\")"
   ]
  },
  {
   "cell_type": "markdown",
   "metadata": {},
   "source": [
    "# 1. Idea behind PyTorch Lightning\n",
    "\n",
    "Codes in a Deep learning project consists of three main categories:\n",
    "\n",
    "1. **Research code**   \n",
    "    This is the exciting part of the experiment where you configure the model architecture and try out different optimizers and target task. This is managed by the `LightningModule` of PyTorch Lightning.\n",
    "    \n",
    "2. **Engineering code**  \n",
    "    This is the same set of code that remain the same for all deep learning projects.Recall the training block of previous notebooks where we loop through the epochs and mini-batches. The `Trainer` class of PyTorch Lightning takes care of this part of code.\n",
    "    \n",
    "3. **Non-essential code**\n",
    "    It is very important that we log our training metrics and organize different training runs to have purposeful experimentation of models. The `Callbacks` class PyTorch Lightning helps us with this section. \n",
    "\n",
    "Let's look at each of these modules in detail.\n",
    "\n",
    "1. **LightningModules** contain all model related code. This is the part where we are working on when creating a new project. The idea is to have all important code in one module, e.g., the model's architecture and the evaluation of training and validation metrics. This provides a better overview as repeated elements, such as the training procedure, are not stored in the code that we work on. The lightning module also handles the calls `.to(device)` or `.train()` and `.eval()`. Hence, there is no need anymore to switch between the cpu and gpu and to take care of the model's mode as this is automated by the LightningModule. The framework also enables easy parallel computation on multiple gpus. \n",
    "\n",
    "2. **Trainer** contains all code needed for training our neural networks that doesn't change for each project (\"one size fits all\"). Usually, we don't touch the code automated by this class. The arguments that are specific for one training such as learning rate and batch size are provided as initialization arguments for the LightningModule.\n",
    "\n",
    "3. **Callbacks** automate all parts needed for logging hyperparameters or training results such as the tensorboard logger. Logging becomes very important for research later since the results of experiments need to be reproducible.\n",
    "\n",
    "All in all, PyTorch is a framework that handles all (annoying) \"engineering\" stuff for you such that you have more time for exciting research and scientific coding. This also results in the advantage that automated parts are guaranteed to be bug-free. Hence, you can't include a bug in a part of your code that is often used but not often checked. "
   ]
  },
  {
   "cell_type": "markdown",
   "metadata": {},
   "source": [
    "# 2. Overview of the PyTorch Lightning code"
   ]
  },
  {
   "cell_type": "markdown",
   "metadata": {},
   "source": [
    "Research relevant code goes into the `LightningModule`. The advantage is that we have all the model building, training & validation steps within a single class. These are the components that usually change based on the projects and tasks."
   ]
  },
  {
   "cell_type": "markdown",
   "metadata": {},
   "source": [
    "![tensorBoard Interface](./images/pl_quick_start_full_compressed.gif)"
   ]
  },
  {
   "cell_type": "markdown",
   "metadata": {},
   "source": [
    "The remaining code is automated by the `Trainer` class which takes care of the tasks of our mechanical training loops components such as iterating through the minibatches and gradient updating steps."
   ]
  },
  {
   "cell_type": "markdown",
   "metadata": {},
   "source": [
    "![alt text](https://miro.medium.com/max/700/1*b81_j__xv8M0Bb6nFTXbAA.png)"
   ]
  },
  {
   "cell_type": "markdown",
   "metadata": {},
   "source": [
    "We could already see how much more readable and concise our code is, after being transformed by PyTorch Lightning.\n",
    "\n",
    "Let us now train a neural network model with PyTorch Lightning."
   ]
  },
  {
   "cell_type": "markdown",
   "metadata": {},
   "source": [
    "# 4. Training with PyTorch Lightning\n",
    "\n",
    "We will build a two-layer neural network to train on the the [`Fashion-MNIST`](https://research.zalando.com/welcome/mission/research-projects/fashion-mnist/) dataset for this notebook. \n",
    "\n",
    "## 4.1 Define A LightningModule\n",
    "\n",
    "We define our network as an instance of `pl.LightningModule` which replaces our `PyTorch` network based on the class `nn.Module`. Additionally, it contains all the relevant parts that are used for training and evaluating different models on various tasks.  \n",
    "\n",
    "Let's have a look at the implementation of `TwoLayerNet` in `exercise_code.lightning_models`."
   ]
  },
  {
   "cell_type": "markdown",
   "metadata": {},
   "source": [
    "The `__init__()` and `forward()` function defining the forward  pass remain the same. Hence, we can just copy the code from the `nn.Module`."
   ]
  },
  {
   "cell_type": "markdown",
   "metadata": {},
   "source": [
    "```python\n",
    "class TwoLayerNet(pl.LightningModule):\n",
    "    def __init__(self, hparams, input_size=1 * 28 * 28, hidden_size=512, num_classes=10):\n",
    "        super().__init__()\n",
    "        self.save_hyperparameters(hparams)\n",
    "\n",
    "        self.model = nn.Sequential(\n",
    "            nn.Linear(input_size, hidden_size),\n",
    "            nn.Sigmoid(),\n",
    "            nn.Linear(hidden_size, num_classes),\n",
    "        )\n",
    "\n",
    "    def forward(self, x):\n",
    "        # flatten the image  before sending as input to the model\n",
    "        N, _, _, _ = x.shape\n",
    "        x = x.view(N, -1)\n",
    "\n",
    "        x = self.model(x)\n",
    "\n",
    "        return x\n",
    "```"
   ]
  },
  {
   "cell_type": "markdown",
   "metadata": {},
   "source": [
    "We will now define the training  and validation steps since they also vary with different tasks and projects. Consequently, it is useful to integrate these parts into our instance of `LightningModule`. Validation loss is returned for each validation mini-batch and averaged at the end of the epoch."
   ]
  },
  {
   "cell_type": "markdown",
   "metadata": {},
   "source": [
    "```python\n",
    "    def training_step(self, batch, batch_idx):\n",
    "        images, targets = batch\n",
    "\n",
    "        # Perform a forward pass on the network with inputs\n",
    "        out = self.forward(images)\n",
    "\n",
    "        # calculate the loss with the network predictions and ground truth targets\n",
    "        loss = F.cross_entropy(out, targets)\n",
    "\n",
    "        # Find the predicted class from probabilities of the image belonging to each of the classes\n",
    "        # from the network output\n",
    "        _, preds = torch.max(out, 1)\n",
    "\n",
    "        # Calculate the accuracy of predictions\n",
    "        acc = preds.eq(targets).sum().float() / targets.size(0)\n",
    "\n",
    "        # Log the accuracy and loss values to the tensorboard\n",
    "        self.log('loss', loss)\n",
    "        self.log('acc', acc)\n",
    "\n",
    "        return {'loss': loss}\n",
    "\n",
    "    def validation_step(self, batch, batch_idx):\n",
    "        images, targets = batch\n",
    "\n",
    "        # Perform a forward pass on the network with inputs\n",
    "        out = self.forward(images)\n",
    "\n",
    "        # calculate the loss with the network predictions and ground truth targets\n",
    "        loss = F.cross_entropy(out, targets)\n",
    "\n",
    "        # Find the predicted class from probabilities of the image belonging to each of the classes\n",
    "        # from the network output\n",
    "        _, preds = torch.max(out, 1)\n",
    "\n",
    "        # Calculate the accuracy of predictions\n",
    "        acc = preds.eq(targets).sum().float() / targets.size(0)\n",
    "\n",
    "        # Visualise the predictions  of the model\n",
    "        if batch_idx == 0:\n",
    "            self.visualize_predictions(images, out.detach(), targets)\n",
    "\n",
    "        return {'val_loss': loss, 'val_acc': acc}\n",
    "\n",
    "    def validation_epoch_end(self, outputs):\n",
    "\n",
    "        # Average the loss over the entire validation data from it's mini-batches\n",
    "        avg_loss = torch.stack([x['val_loss'] for x in outputs]).mean()\n",
    "        avg_acc = torch.stack([x['val_acc'] for x in outputs]).mean()\n",
    "\n",
    "        # Log the validation accuracy and loss values to the tensorboard\n",
    "        self.log('val_loss', avg_loss)\n",
    "        self.log('val_acc', avg_acc)\n",
    "```"
   ]
  },
  {
   "cell_type": "markdown",
   "metadata": {},
   "source": [
    "The last step missing in our `LightningModule` is the optimizer. This method needs to be defined in every `LightningModule`."
   ]
  },
  {
   "cell_type": "markdown",
   "metadata": {},
   "source": [
    "```python\n",
    "    def configure_optimizers(self):\n",
    "        optim = torch.optim.SGD(self.model.parameters(), self.hparams[\"learning_rate\"], momentum=0.9)\n",
    "\n",
    "        return optim\n",
    "```"
   ]
  },
  {
   "cell_type": "markdown",
   "metadata": {},
   "source": [
    "Now that we have set up the model and the training steps, we will now establish the data pipeline. PyTorch Lightning provides the `LightningDataModule` for setting up the dataloaders.\n",
    "\n",
    "Let's have a look at the implementation of `FashionMNISTDataModule` in `exercise_code.data_class`.\n",
    "\n",
    "The `prepare_data()` function intends to set up the dataset and the related transforms for it. As previously, we download the `FashionMNIST` dataset using `torchvision` and split the total training data into a training and validation set for tuning hyperparameters."
   ]
  },
  {
   "cell_type": "markdown",
   "metadata": {},
   "source": [
    "```python\n",
    "class FashionMNISTDataModule(pl.LightningDataModule):\n",
    "\n",
    "    def __init__(self, batch_size=4):\n",
    "        super().__init__()\n",
    "        self.batch_size = batch_size\n",
    "\n",
    "    def prepare_data(self):\n",
    "\n",
    "        # Define the transform\n",
    "        transform = transforms.Compose([transforms.ToTensor(),\n",
    "                                        transforms.Normalize((0.5,), (0.5,))])\n",
    "\n",
    "        # Download the Fashion-MNIST dataset\n",
    "        fashion_mnist_train_val = torchvision.datasets.FashionMNIST(root='../datasets', train=True,\n",
    "                                                                   download=True, transform=transform)\n",
    "\n",
    "        self.fashion_mnist_test = torchvision.datasets.FashionMNIST(root='../datasets', train=False,\n",
    "                                                                 download=True, transform=transform)\n",
    "\n",
    "        # Apply the Transforms\n",
    "        transform = transforms.Compose([transforms.ToTensor(),\n",
    "                                        transforms.Normalize((0.5,), (0.5,))])\n",
    "\n",
    "        # Perform the training and validation split\n",
    "        self.train_dataset, self.val_dataset = random_split(\n",
    "            fashion_mnist_train_val, [50000, 10000])\n",
    "```"
   ]
  },
  {
   "cell_type": "markdown",
   "metadata": {},
   "source": [
    "We shall now define `Dataloaders` for each of the data-splits. These data loaders can be directly called during model training!"
   ]
  },
  {
   "cell_type": "markdown",
   "metadata": {},
   "source": [
    "```python\n",
    "\n",
    "    def train_dataloader(self):\n",
    "        return DataLoader(self.train_dataset, batch_size=self.batch_size)\n",
    "\n",
    "    def val_dataloader(self):\n",
    "        return DataLoader(self.val_dataset, batch_size=self.batch_size)\n",
    "\n",
    "    def test_dataloader(self):\n",
    "        return DataLoader(self.fashion_mnist_test, batch_size=self.batch_size)\n",
    "\n",
    "```"
   ]
  },
  {
   "cell_type": "markdown",
   "metadata": {},
   "source": [
    "You can notice now that most of the code of these steps can be directly copied from a Vanilla PyTorch code. Lightning just rearranges them. This marks the end of the research part of the code.\n",
    "\n",
    "Let's see now how the `Trainer` class works:"
   ]
  },
  {
   "cell_type": "markdown",
   "metadata": {},
   "source": [
    "##  4.2 Fitting the model with a Trainer"
   ]
  },
  {
   "cell_type": "markdown",
   "metadata": {},
   "source": [
    "We will initialize the model and the data  with a set of hyperparameters given in the dictionary `hparams`.\n"
   ]
  },
  {
   "cell_type": "code",
   "execution_count": 4,
   "metadata": {},
   "outputs": [],
   "source": [
    "from IPython.display import clear_output \n",
    "\n",
    "from exercise_code.lightning_models import TwoLayerNet\n",
    "from exercise_code.data_class import FashionMNISTDataModule\n",
    "\n",
    "hparams = {\n",
    "    \"batch_size\": 16,\n",
    "    \"learning_rate\": 1e-3,\n",
    "    \"input_size\": 1 * 28 * 28,\n",
    "    \"hidden_size\": 512,\n",
    "    \"num_classes\": 10,\n",
    "    \"num_workers\": 2,    # used by the dataloader, more workers means faster data preparation, but for us this is not a bottleneck here\n",
    "}\n",
    "\n",
    "\n",
    "model = TwoLayerNet(hparams)\n",
    "data=FashionMNISTDataModule(hparams)\n",
    "data.prepare_data()"
   ]
  },
  {
   "cell_type": "markdown",
   "metadata": {},
   "source": [
    " PyTorch Lightning provides ample flexibility for training using [`Trainer`](https://pytorch-lightning.readthedocs.io/en/latest/trainer.html) class.\n",
    "Have a look at the documentation to know more about them!\n",
    "\n",
    "Let's initialize it now!"
   ]
  },
  {
   "cell_type": "code",
   "execution_count": 5,
   "metadata": {},
   "outputs": [
    {
     "name": "stderr",
     "output_type": "stream",
     "text": [
      "GPU available: True, used: False\n",
      "TPU available: False, using: 0 TPU cores\n",
      "IPU available: False, using: 0 IPUs\n",
      "HPU available: False, using: 0 HPUs\n",
      "/home/vikaskurapati/anaconda3/envs/i2dl/lib/python3.10/site-packages/pytorch_lightning/trainer/trainer.py:1823: PossibleUserWarning: GPU available but not used. Set `accelerator` and `devices` using `Trainer(accelerator='gpu', devices=1)`.\n",
      "  rank_zero_warn(\n"
     ]
    }
   ],
   "source": [
    "trainer = pl.Trainer(\n",
    "    max_epochs=2,\n",
    "    # Uncomment to use GPU if available, if multiple you can select all indices, otherwise we use the first, -1 is CPU\n",
    "    # devices='0' \n",
    ")"
   ]
  },
  {
   "cell_type": "markdown",
   "metadata": {},
   "source": [
    "The argument `max_epochs` sets the maximum number of epochs for training. \n",
    "The argument `weights_summary` prints a summary of the number of weights per layer at the beginning of the training. Set it to None if the summary is not required.\n",
    " "
   ]
  },
  {
   "cell_type": "markdown",
   "metadata": {},
   "source": [
    "Here comes the actual training cell. The [`fit`](https://pytorch-lightning.readthedocs.io/en/latest/_modules/pytorch_lightning/trainer/trainer.html#Trainer.fit) function takes in the model and data to train the model with a lot more optional arguments for customization."
   ]
  },
  {
   "cell_type": "code",
   "execution_count": 6,
   "metadata": {},
   "outputs": [
    {
     "name": "stderr",
     "output_type": "stream",
     "text": [
      "Missing logger folder: /media/vikaskurapati/New Volume/Documents/Masters/2nd Semester/I2DL/Bonus/Exercise01/i2dl/exercise_07/lightning_logs\n",
      "\n",
      "  | Name  | Type       | Params\n",
      "-------------------------------------\n",
      "0 | model | Sequential | 407 K \n",
      "-------------------------------------\n",
      "407 K     Trainable params\n",
      "0         Non-trainable params\n",
      "407 K     Total params\n",
      "1.628     Total estimated model params size (MB)\n"
     ]
    },
    {
     "data": {
      "application/vnd.jupyter.widget-view+json": {
       "model_id": "c313905f27b544b5a9d21f151ce188ef",
       "version_major": 2,
       "version_minor": 0
      },
      "text/plain": [
       "Sanity Checking: 0it [00:00, ?it/s]"
      ]
     },
     "metadata": {},
     "output_type": "display_data"
    },
    {
     "name": "stderr",
     "output_type": "stream",
     "text": [
      "/home/vikaskurapati/anaconda3/envs/i2dl/lib/python3.10/site-packages/pytorch_lightning/trainer/connectors/data_connector.py:240: PossibleUserWarning: The dataloader, val_dataloader 0, does not have many workers which may be a bottleneck. Consider increasing the value of the `num_workers` argument` (try 12 which is the number of cpus on this machine) in the `DataLoader` init to improve performance.\n",
      "  rank_zero_warn(\n",
      "/home/vikaskurapati/anaconda3/envs/i2dl/lib/python3.10/site-packages/pytorch_lightning/trainer/connectors/data_connector.py:240: PossibleUserWarning: The dataloader, train_dataloader, does not have many workers which may be a bottleneck. Consider increasing the value of the `num_workers` argument` (try 12 which is the number of cpus on this machine) in the `DataLoader` init to improve performance.\n",
      "  rank_zero_warn(\n"
     ]
    },
    {
     "data": {
      "application/vnd.jupyter.widget-view+json": {
       "model_id": "31e14f64671d48a788a42cee7421fa42",
       "version_major": 2,
       "version_minor": 0
      },
      "text/plain": [
       "Training: 0it [00:00, ?it/s]"
      ]
     },
     "metadata": {},
     "output_type": "display_data"
    },
    {
     "data": {
      "application/vnd.jupyter.widget-view+json": {
       "model_id": "e9a6961338204361b02659c18682b0c9",
       "version_major": 2,
       "version_minor": 0
      },
      "text/plain": [
       "Validation: 0it [00:00, ?it/s]"
      ]
     },
     "metadata": {},
     "output_type": "display_data"
    },
    {
     "data": {
      "application/vnd.jupyter.widget-view+json": {
       "model_id": "62b70866a6f041b0a671997d68ba8bf9",
       "version_major": 2,
       "version_minor": 0
      },
      "text/plain": [
       "Validation: 0it [00:00, ?it/s]"
      ]
     },
     "metadata": {},
     "output_type": "display_data"
    }
   ],
   "source": [
    "trainer.fit(model, data)"
   ]
  },
  {
   "cell_type": "markdown",
   "metadata": {},
   "source": [
    "Checkout the directory `lightning_logs`. For each run there is a new directory `version_xx` created. The rightmost argument in the progress bar, the `v_num` variable above shows the version of the current run. Each directory automatically contains a folder with checkpoints, logs and the hyperparameters for this run.\n",
    "\n",
    "As seen in the last notebook, you can have a look at the  logs of the runs in the TensorBoard  \n",
    "Use the command as in the previous notebook in your terminal \n",
    "```\n",
    "tensorboard --logdir lightning_logs\n",
    "```\n",
    "Make sure to use the above command as the same directory as `exercise_07`."
   ]
  },
  {
   "cell_type": "markdown",
   "metadata": {},
   "source": [
    "If you are using Google Colab, run the following cell to load the TensorBoard extension within the notebook. You may have to scroll to this block whenever you need to look at the TensorBoard interface."
   ]
  },
  {
   "cell_type": "code",
   "execution_count": null,
   "metadata": {},
   "outputs": [],
   "source": [
    "# %load_ext tensorboard\n",
    "# %tensorboard --logdir lightning_logs"
   ]
  },
  {
   "cell_type": "markdown",
   "metadata": {},
   "source": [
    "## 4.3 Add images to tensorboard"
   ]
  },
  {
   "cell_type": "markdown",
   "metadata": {},
   "source": [
    "The tensorboard logger is a submodule of the `LightningModule` and can be accessed via `self.logger`. We can  add images  to the logging module by calling \n",
    "```python\n",
    "self.logger.experiment.add_image('tag', image)\n",
    "```\n",
    "to add an image. \n",
    "\n",
    "\n",
    "We will log the first batch of validation images in a grid together with the predicted class labels and the ground truth labels. \n",
    "\n",
    "```python\n",
    "        if batch_idx == 0:\n",
    "            self.visualize_predictions(images, out.detach(), targets)\n",
    "```\n",
    "\n",
    "Let's have a look at the implementation of `visualize_predictions()` function in `exercise_code.lightning_models`.\n",
    "\n",
    "\n",
    "\n",
    "```python\n",
    "    def visualize_predictions(self, images, preds, targets):\n",
    "        class_names = ['airplane', 'automobile', 'bird', 'cat', 'deer', \n",
    "                       'dog', 'frog', 'horse', 'ship', 'truck']\n",
    "\n",
    "        # determine size of the grid based on given batch size\n",
    "        num_rows = torch.tensor(len(images)).float().sqrt().floor()\n",
    "        \n",
    "        fig = plt.figure(figsize=(10, 10))\n",
    "        for i in range(len(images)):\n",
    "            plt.subplot(num_rows ,len(images) // num_rows + 1, i+1)\n",
    "            plt.imshow(images[i].permute(1, 2, 0))\n",
    "            plt.title(class_names[torch.argmax(preds, axis=-1)[i]] + f'\\n[{class_names[targets[i]]}]')\n",
    "            plt.axis('off')\n",
    "\n",
    "        self.logger.experiment.add_figure('predictions', fig, global_step=self.global_step)\n",
    "```\n",
    "\n",
    "You can view the logged images in your `IMAGES` tab of TensorBoard."
   ]
  },
  {
   "cell_type": "markdown",
   "metadata": {},
   "source": [
    "We have now looked at how to train a model using PyTorch Lightning. PyTorch Lightning is very active in developement and the features set are continously expanded and updated.\n"
   ]
  },
  {
   "cell_type": "markdown",
   "metadata": {},
   "source": [
    "# 4. Other Features of PyTorch Lightning\n",
    "\n",
    "\n",
    "### Checking  training timings\n",
    "\n",
    "The argument `profiler` of the `Trainer` class measures the time taken in different steps such as dataloading, forward and backward pass. You can select a variety of loggers [here](https://pytorch-lightning.readthedocs.io/en/stable/advanced/profiler.html).\n",
    "\n",
    "Run the cell below to see for yourself."
   ]
  },
  {
   "cell_type": "code",
   "execution_count": 7,
   "metadata": {},
   "outputs": [
    {
     "name": "stderr",
     "output_type": "stream",
     "text": [
      "GPU available: True, used: False\n",
      "TPU available: False, using: 0 TPU cores\n",
      "IPU available: False, using: 0 IPUs\n",
      "HPU available: False, using: 0 HPUs\n",
      "\n",
      "  | Name  | Type       | Params\n",
      "-------------------------------------\n",
      "0 | model | Sequential | 407 K \n",
      "-------------------------------------\n",
      "407 K     Trainable params\n",
      "0         Non-trainable params\n",
      "407 K     Total params\n",
      "1.628     Total estimated model params size (MB)\n"
     ]
    },
    {
     "data": {
      "application/vnd.jupyter.widget-view+json": {
       "model_id": "0c26298862e84f3d8c22c3bb8d376ef1",
       "version_major": 2,
       "version_minor": 0
      },
      "text/plain": [
       "Sanity Checking: 0it [00:00, ?it/s]"
      ]
     },
     "metadata": {},
     "output_type": "display_data"
    },
    {
     "data": {
      "application/vnd.jupyter.widget-view+json": {
       "model_id": "cdcfa7a96b3a4cee98ff1ddad9ef2e67",
       "version_major": 2,
       "version_minor": 0
      },
      "text/plain": [
       "Training: 0it [00:00, ?it/s]"
      ]
     },
     "metadata": {},
     "output_type": "display_data"
    },
    {
     "data": {
      "application/vnd.jupyter.widget-view+json": {
       "model_id": "63e2ce948c14417c86708732eb793634",
       "version_major": 2,
       "version_minor": 0
      },
      "text/plain": [
       "Validation: 0it [00:00, ?it/s]"
      ]
     },
     "metadata": {},
     "output_type": "display_data"
    },
    {
     "name": "stderr",
     "output_type": "stream",
     "text": [
      "FIT Profiler Report\n",
      "\n",
      "------------------------------------------------------------------------------------------------------------------------------------------------------------------------------------------------------------------------------------------------------------------------------------------------------------------\n",
      "|  Action                                                                                                                                                                                                    \t|  Mean duration (s)\t|  Num calls      \t|  Total time (s) \t|  Percentage %   \t|\n",
      "------------------------------------------------------------------------------------------------------------------------------------------------------------------------------------------------------------------------------------------------------------------------------------------------------------------\n",
      "|  Total                                                                                                                                                                                                     \t|  -              \t|  137063         \t|  39.579         \t|  100 %          \t|\n",
      "------------------------------------------------------------------------------------------------------------------------------------------------------------------------------------------------------------------------------------------------------------------------------------------------------------------\n",
      "|  run_training_epoch                                                                                                                                                                                        \t|  38.825         \t|  1              \t|  38.825         \t|  98.097         \t|\n",
      "|  run_training_batch                                                                                                                                                                                        \t|  0.0049143      \t|  3125           \t|  15.357         \t|  38.802         \t|\n",
      "|  [LightningModule]TwoLayerNet.optimizer_step                                                                                                                                                               \t|  0.0044876      \t|  3125           \t|  14.024         \t|  35.433         \t|\n",
      "|  on_train_batch_end                                                                                                                                                                                        \t|  0.0022729      \t|  3125           \t|  7.1028         \t|  17.946         \t|\n",
      "|  [Strategy]SingleDeviceStrategy.training_step                                                                                                                                                              \t|  0.0013658      \t|  3125           \t|  4.2681         \t|  10.784         \t|\n",
      "|  [Strategy]SingleDeviceStrategy.backward                                                                                                                                                                   \t|  0.0012033      \t|  3125           \t|  3.7604         \t|  9.5012         \t|\n",
      "|  [Strategy]SingleDeviceStrategy.validation_step                                                                                                                                                            \t|  0.0042858      \t|  627            \t|  2.6872         \t|  6.7895         \t|\n",
      "|  [Callback]TQDMProgressBar.on_validation_batch_end                                                                                                                                                         \t|  0.0022296      \t|  627            \t|  1.398          \t|  3.5322         \t|\n",
      "|  [LightningModule]TwoLayerNet.optimizer_zero_grad                                                                                                                                                          \t|  0.00031439     \t|  3125           \t|  0.98247        \t|  2.4823         \t|\n",
      "|  on_train_batch_start                                                                                                                                                                                      \t|  0.00018322     \t|  3125           \t|  0.57255        \t|  1.4466         \t|\n",
      "|  [Strategy]SingleDeviceStrategy.batch_to_device                                                                                                                                                            \t|  0.00010101     \t|  3752           \t|  0.37899        \t|  0.95755        \t|\n",
      "|  [Callback]ModelCheckpoint{'monitor': None, 'mode': 'min', 'every_n_train_steps': 0, 'every_n_epochs': 1, 'train_time_interval': None, 'save_on_train_epoch_end': True}.on_train_epoch_end                 \t|  0.030797       \t|  1              \t|  0.030797       \t|  0.077813       \t|\n",
      "|  [Callback]TQDMProgressBar.on_sanity_check_start                                                                                                                                                           \t|  0.027835       \t|  1              \t|  0.027835       \t|  0.070327       \t|\n",
      "|  [Callback]TQDMProgressBar.on_validation_start                                                                                                                                                             \t|  0.013126       \t|  2              \t|  0.026251       \t|  0.066327       \t|\n",
      "|  [Callback]TQDMProgressBar.on_after_backward                                                                                                                                                               \t|  7.5499e-06     \t|  3125           \t|  0.023593       \t|  0.059612       \t|\n",
      "|  [Callback]TQDMProgressBar.on_train_start                                                                                                                                                                  \t|  0.020635       \t|  1              \t|  0.020635       \t|  0.052135       \t|\n",
      "|  [Callback]TQDMProgressBar.on_batch_start                                                                                                                                                                  \t|  5.0151e-06     \t|  3125           \t|  0.015672       \t|  0.039598       \t|\n",
      "|  [Callback]TQDMProgressBar.on_before_zero_grad                                                                                                                                                             \t|  4.8734e-06     \t|  3125           \t|  0.015229       \t|  0.038479       \t|\n",
      "|  [Callback]TQDMProgressBar.on_batch_end                                                                                                                                                                    \t|  4.504e-06      \t|  3125           \t|  0.014075       \t|  0.035562       \t|\n",
      "|  [Callback]TQDMProgressBar.on_validation_batch_start                                                                                                                                                       \t|  2.1603e-05     \t|  627            \t|  0.013545       \t|  0.034224       \t|\n",
      "|  [Callback]TQDMProgressBar.on_before_backward                                                                                                                                                              \t|  4.3102e-06     \t|  3125           \t|  0.01347        \t|  0.034032       \t|\n",
      "|  [Callback]ModelSummary.on_validation_batch_end                                                                                                                                                            \t|  2.1343e-05     \t|  627            \t|  0.013382       \t|  0.033811       \t|\n",
      "|  [Callback]TQDMProgressBar.on_before_optimizer_step                                                                                                                                                        \t|  4.0719e-06     \t|  3125           \t|  0.012725       \t|  0.032151       \t|\n",
      "|  [Callback]ModelSummary.on_batch_start                                                                                                                                                                     \t|  4.0632e-06     \t|  3125           \t|  0.012698       \t|  0.032082       \t|\n",
      "|  [Callback]ModelSummary.on_after_backward                                                                                                                                                                  \t|  3.8391e-06     \t|  3125           \t|  0.011997       \t|  0.030312       \t|\n",
      "|  [Callback]ModelCheckpoint{'monitor': None, 'mode': 'min', 'every_n_train_steps': 0, 'every_n_epochs': 1, 'train_time_interval': None, 'save_on_train_epoch_end': True}.on_before_backward                 \t|  3.6252e-06     \t|  3125           \t|  0.011329       \t|  0.028624       \t|\n",
      "|  [Callback]ModelCheckpoint{'monitor': None, 'mode': 'min', 'every_n_train_steps': 0, 'every_n_epochs': 1, 'train_time_interval': None, 'save_on_train_epoch_end': True}.on_before_zero_grad                \t|  3.5545e-06     \t|  3125           \t|  0.011108       \t|  0.028065       \t|\n",
      "|  [Callback]ModelCheckpoint{'monitor': None, 'mode': 'min', 'every_n_train_steps': 0, 'every_n_epochs': 1, 'train_time_interval': None, 'save_on_train_epoch_end': True}.on_after_backward                  \t|  3.3975e-06     \t|  3125           \t|  0.010617       \t|  0.026825       \t|\n",
      "|  [Callback]ModelSummary.on_before_zero_grad                                                                                                                                                                \t|  3.3879e-06     \t|  3125           \t|  0.010587       \t|  0.02675        \t|\n",
      "|  [Callback]ModelCheckpoint{'monitor': None, 'mode': 'min', 'every_n_train_steps': 0, 'every_n_epochs': 1, 'train_time_interval': None, 'save_on_train_epoch_end': True}.on_batch_start                     \t|  3.2714e-06     \t|  3125           \t|  0.010223       \t|  0.02583        \t|\n",
      "|  [Callback]GradientAccumulationScheduler.on_before_optimizer_step                                                                                                                                          \t|  3.2633e-06     \t|  3125           \t|  0.010198       \t|  0.025766       \t|\n",
      "|  [Callback]ModelCheckpoint{'monitor': None, 'mode': 'min', 'every_n_train_steps': 0, 'every_n_epochs': 1, 'train_time_interval': None, 'save_on_train_epoch_end': True}.on_before_optimizer_step           \t|  3.2339e-06     \t|  3125           \t|  0.010106       \t|  0.025534       \t|\n",
      "|  [Callback]ModelCheckpoint{'monitor': None, 'mode': 'min', 'every_n_train_steps': 0, 'every_n_epochs': 1, 'train_time_interval': None, 'save_on_train_epoch_end': True}.on_batch_end                       \t|  3.2091e-06     \t|  3125           \t|  0.010028       \t|  0.025338       \t|\n",
      "|  [Callback]GradientAccumulationScheduler.on_batch_start                                                                                                                                                    \t|  3.133e-06      \t|  3125           \t|  0.0097906      \t|  0.024737       \t|\n",
      "|  [Callback]ModelSummary.on_before_backward                                                                                                                                                                 \t|  3.0898e-06     \t|  3125           \t|  0.0096557      \t|  0.024396       \t|\n",
      "|  [Callback]ModelSummary.on_before_optimizer_step                                                                                                                                                           \t|  3.0762e-06     \t|  3125           \t|  0.0096131      \t|  0.024289       \t|\n",
      "|  [Callback]GradientAccumulationScheduler.on_batch_end                                                                                                                                                      \t|  3.0691e-06     \t|  3125           \t|  0.0095908      \t|  0.024232       \t|\n",
      "|  [Callback]ModelSummary.on_batch_end                                                                                                                                                                       \t|  3.0372e-06     \t|  3125           \t|  0.0094913      \t|  0.023981       \t|\n",
      "|  [Callback]GradientAccumulationScheduler.on_after_backward                                                                                                                                                 \t|  2.9872e-06     \t|  3125           \t|  0.0093349      \t|  0.023586       \t|\n",
      "|  [Callback]GradientAccumulationScheduler.on_before_zero_grad                                                                                                                                               \t|  2.9467e-06     \t|  3125           \t|  0.0092085      \t|  0.023266       \t|\n",
      "|  [Callback]GradientAccumulationScheduler.on_before_backward                                                                                                                                                \t|  2.842e-06      \t|  3125           \t|  0.0088813      \t|  0.02244        \t|\n",
      "|  [LightningModule]TwoLayerNet.training_step_end                                                                                                                                                            \t|  2.3237e-06     \t|  3125           \t|  0.0072617      \t|  0.018347       \t|\n",
      "|  [LightningModule]TwoLayerNet.on_train_batch_end                                                                                                                                                           \t|  2.1742e-06     \t|  3125           \t|  0.0067943      \t|  0.017167       \t|\n",
      "|  [LightningModule]TwoLayerNet.on_after_backward                                                                                                                                                            \t|  1.956e-06      \t|  3125           \t|  0.0061126      \t|  0.015444       \t|\n",
      "|  [LightningModule]TwoLayerNet.on_train_batch_start                                                                                                                                                         \t|  1.7783e-06     \t|  3125           \t|  0.0055572      \t|  0.014041       \t|\n",
      "|  [Strategy]SingleDeviceStrategy.training_step_end                                                                                                                                                          \t|  1.7402e-06     \t|  3125           \t|  0.005438       \t|  0.01374        \t|\n",
      "|  [Strategy]SingleDeviceStrategy.on_train_batch_start                                                                                                                                                       \t|  1.7111e-06     \t|  3125           \t|  0.0053473      \t|  0.013511       \t|\n",
      "|  [LightningModule]TwoLayerNet.on_before_zero_grad                                                                                                                                                          \t|  1.5737e-06     \t|  3125           \t|  0.004918       \t|  0.012426       \t|\n",
      "|  [LightningModule]TwoLayerNet.validation_epoch_end                                                                                                                                                         \t|  0.0024334      \t|  2              \t|  0.0048668      \t|  0.012296       \t|\n",
      "|  [LightningModule]TwoLayerNet.on_before_optimizer_step                                                                                                                                                     \t|  1.4332e-06     \t|  3125           \t|  0.0044786      \t|  0.011316       \t|\n",
      "|  [LightningModule]TwoLayerNet.on_before_backward                                                                                                                                                           \t|  1.3963e-06     \t|  3125           \t|  0.0043634      \t|  0.011025       \t|\n",
      "|  [Callback]TQDMProgressBar.on_validation_end                                                                                                                                                               \t|  0.0017497      \t|  2              \t|  0.0034994      \t|  0.0088415      \t|\n",
      "|  [Callback]ModelSummary.on_validation_batch_start                                                                                                                                                          \t|  4.8393e-06     \t|  627            \t|  0.0030342      \t|  0.0076663      \t|\n",
      "|  [Callback]GradientAccumulationScheduler.on_validation_batch_end                                                                                                                                           \t|  4.3406e-06     \t|  627            \t|  0.0027216      \t|  0.0068764      \t|\n",
      "|  [Callback]ModelCheckpoint{'monitor': None, 'mode': 'min', 'every_n_train_steps': 0, 'every_n_epochs': 1, 'train_time_interval': None, 'save_on_train_epoch_end': True}.on_validation_batch_end            \t|  3.9535e-06     \t|  627            \t|  0.0024789      \t|  0.0062631      \t|\n",
      "|  [Callback]ModelCheckpoint{'monitor': None, 'mode': 'min', 'every_n_train_steps': 0, 'every_n_epochs': 1, 'train_time_interval': None, 'save_on_train_epoch_end': True}.on_validation_batch_start          \t|  3.8683e-06     \t|  627            \t|  0.0024254      \t|  0.0061281      \t|\n",
      "|  [Callback]GradientAccumulationScheduler.on_validation_batch_start                                                                                                                                         \t|  3.4976e-06     \t|  627            \t|  0.002193       \t|  0.0055409      \t|\n",
      "|  [LightningModule]TwoLayerNet.validation_step_end                                                                                                                                                          \t|  2.7475e-06     \t|  627            \t|  0.0017227      \t|  0.0043526      \t|\n",
      "|  [Callback]TQDMProgressBar.on_train_end                                                                                                                                                                    \t|  0.0016873      \t|  1              \t|  0.0016873      \t|  0.0042633      \t|\n",
      "|  [Callback]ModelSummary.on_fit_start                                                                                                                                                                       \t|  0.0016667      \t|  1              \t|  0.0016667      \t|  0.0042112      \t|\n",
      "|  [LightningModule]TwoLayerNet.on_validation_batch_start                                                                                                                                                    \t|  2.2489e-06     \t|  627            \t|  0.0014101      \t|  0.0035627      \t|\n",
      "|  [LightningModule]TwoLayerNet.on_validation_batch_end                                                                                                                                                      \t|  2.0468e-06     \t|  627            \t|  0.0012834      \t|  0.0032426      \t|\n",
      "|  [Strategy]SingleDeviceStrategy.validation_step_end                                                                                                                                                        \t|  1.9455e-06     \t|  627            \t|  0.0012199      \t|  0.0030821      \t|\n",
      "|  [Callback]TQDMProgressBar.on_train_epoch_end                                                                                                                                                              \t|  0.00094173     \t|  1              \t|  0.00094173     \t|  0.0023794      \t|\n",
      "|  [Callback]TQDMProgressBar.on_train_epoch_start                                                                                                                                                            \t|  0.00068536     \t|  1              \t|  0.00068536     \t|  0.0017316      \t|\n",
      "|  [Callback]ModelCheckpoint{'monitor': None, 'mode': 'min', 'every_n_train_steps': 0, 'every_n_epochs': 1, 'train_time_interval': None, 'save_on_train_epoch_end': None}.setup                              \t|  0.00026741     \t|  1              \t|  0.00026741     \t|  0.00067564     \t|\n",
      "|  [LightningModule]TwoLayerNet.on_validation_model_train                                                                                                                                                    \t|  0.00010139     \t|  2              \t|  0.00020279     \t|  0.00051236     \t|\n",
      "|  [LightningModule]TwoLayerNet.on_validation_model_eval                                                                                                                                                     \t|  5.6226e-05     \t|  2              \t|  0.00011245     \t|  0.00028412     \t|\n",
      "|  [Callback]ModelCheckpoint{'monitor': None, 'mode': 'min', 'every_n_train_steps': 0, 'every_n_epochs': 1, 'train_time_interval': None, 'save_on_train_epoch_end': True}.on_validation_end                  \t|  5.4973e-05     \t|  2              \t|  0.00010995     \t|  0.00027779     \t|\n",
      "|  [LightningModule]TwoLayerNet.configure_optimizers                                                                                                                                                         \t|  0.00010164     \t|  1              \t|  0.00010164     \t|  0.0002568      \t|\n",
      "|  [Callback]ModelSummary.on_validation_end                                                                                                                                                                  \t|  1.8604e-05     \t|  2              \t|  3.7208e-05     \t|  9.401e-05      \t|\n",
      "|  [Callback]TQDMProgressBar.on_validation_epoch_end                                                                                                                                                         \t|  1.4078e-05     \t|  2              \t|  2.8155e-05     \t|  7.1137e-05     \t|\n",
      "|  [LightningModule]TwoLayerNet.on_validation_epoch_end                                                                                                                                                      \t|  1.2345e-05     \t|  2              \t|  2.469e-05      \t|  6.2382e-05     \t|\n",
      "|  [Callback]GradientAccumulationScheduler.on_fit_start                                                                                                                                                      \t|  2.3613e-05     \t|  1              \t|  2.3613e-05     \t|  5.9661e-05     \t|\n",
      "|  [Callback]TQDMProgressBar.on_sanity_check_end                                                                                                                                                             \t|  2.2967e-05     \t|  1              \t|  2.2967e-05     \t|  5.8029e-05     \t|\n",
      "|  [Callback]ModelSummary.on_validation_start                                                                                                                                                                \t|  1.0485e-05     \t|  2              \t|  2.0971e-05     \t|  5.2986e-05     \t|\n",
      "|  [Callback]ModelSummary.on_train_end                                                                                                                                                                       \t|  1.781e-05      \t|  1              \t|  1.781e-05      \t|  4.4999e-05     \t|\n",
      "|  [Callback]ModelSummary.on_sanity_check_start                                                                                                                                                              \t|  1.7457e-05     \t|  1              \t|  1.7457e-05     \t|  4.4107e-05     \t|\n",
      "|  [Callback]ModelSummary.on_train_start                                                                                                                                                                     \t|  1.383e-05      \t|  1              \t|  1.383e-05      \t|  3.4943e-05     \t|\n",
      "|  [Callback]TQDMProgressBar.on_epoch_end                                                                                                                                                                    \t|  4.6073e-06     \t|  3              \t|  1.3822e-05     \t|  3.4923e-05     \t|\n",
      "|  [Strategy]SingleDeviceStrategy.on_validation_end                                                                                                                                                          \t|  6.844e-06      \t|  2              \t|  1.3688e-05     \t|  3.4584e-05     \t|\n",
      "|  [Callback]ModelSummary.on_train_epoch_end                                                                                                                                                                 \t|  1.3243e-05     \t|  1              \t|  1.3243e-05     \t|  3.346e-05      \t|\n",
      "|  [Callback]TQDMProgressBar.on_pretrain_routine_start                                                                                                                                                       \t|  1.2379e-05     \t|  1              \t|  1.2379e-05     \t|  3.1277e-05     \t|\n",
      "|  [Callback]TQDMProgressBar.on_epoch_start                                                                                                                                                                  \t|  3.9533e-06     \t|  3              \t|  1.186e-05      \t|  2.9966e-05     \t|\n",
      "|  [Callback]TQDMProgressBar.on_fit_end                                                                                                                                                                      \t|  1.13e-05       \t|  1              \t|  1.13e-05       \t|  2.8551e-05     \t|\n",
      "|  [Callback]ModelSummary.on_train_epoch_start                                                                                                                                                               \t|  1.1075e-05     \t|  1              \t|  1.1075e-05     \t|  2.7982e-05     \t|\n",
      "|  [Callback]ModelSummary.on_epoch_start                                                                                                                                                                     \t|  3.5767e-06     \t|  3              \t|  1.073e-05      \t|  2.7111e-05     \t|\n",
      "|  [Callback]ModelCheckpoint{'monitor': None, 'mode': 'min', 'every_n_train_steps': 0, 'every_n_epochs': 1, 'train_time_interval': None, 'save_on_train_epoch_end': True}.on_epoch_start                     \t|  3.5483e-06     \t|  3              \t|  1.0645e-05     \t|  2.6896e-05     \t|\n",
      "|  [Callback]TQDMProgressBar.on_save_checkpoint                                                                                                                                                              \t|  1.0208e-05     \t|  1              \t|  1.0208e-05     \t|  2.5792e-05     \t|\n",
      "|  [Callback]GradientAccumulationScheduler.on_validation_start                                                                                                                                               \t|  5.0155e-06     \t|  2              \t|  1.0031e-05     \t|  2.5344e-05     \t|\n",
      "|  [Callback]GradientAccumulationScheduler.on_epoch_start                                                                                                                                                    \t|  3.2903e-06     \t|  3              \t|  9.871e-06      \t|  2.494e-05      \t|\n",
      "|  [Callback]GradientAccumulationScheduler.on_train_epoch_start                                                                                                                                              \t|  9.833e-06      \t|  1              \t|  9.833e-06      \t|  2.4844e-05     \t|\n",
      "|  [Callback]ModelCheckpoint{'monitor': None, 'mode': 'min', 'every_n_train_steps': 0, 'every_n_epochs': 1, 'train_time_interval': None, 'save_on_train_epoch_end': True}.on_validation_start                \t|  4.8405e-06     \t|  2              \t|  9.681e-06      \t|  2.446e-05      \t|\n",
      "|  [Callback]TQDMProgressBar.on_validation_epoch_start                                                                                                                                                       \t|  4.5905e-06     \t|  2              \t|  9.181e-06      \t|  2.3197e-05     \t|\n",
      "|  [Callback]ModelCheckpoint{'monitor': None, 'mode': 'min', 'every_n_train_steps': 0, 'every_n_epochs': 1, 'train_time_interval': None, 'save_on_train_epoch_end': True}.on_epoch_end                       \t|  2.9597e-06     \t|  3              \t|  8.879e-06      \t|  2.2434e-05     \t|\n",
      "|  [Callback]ModelSummary.on_epoch_end                                                                                                                                                                       \t|  2.824e-06      \t|  3              \t|  8.472e-06      \t|  2.1405e-05     \t|\n",
      "|  [Callback]ModelCheckpoint{'monitor': None, 'mode': 'min', 'every_n_train_steps': 0, 'every_n_epochs': 1, 'train_time_interval': None, 'save_on_train_epoch_end': True}.on_validation_epoch_start          \t|  4.1615e-06     \t|  2              \t|  8.323e-06      \t|  2.1029e-05     \t|\n",
      "|  [Callback]ModelSummary.on_validation_epoch_start                                                                                                                                                          \t|  4.0335e-06     \t|  2              \t|  8.067e-06      \t|  2.0382e-05     \t|\n",
      "|  [Callback]TQDMProgressBar.setup                                                                                                                                                                           \t|  7.773e-06      \t|  1              \t|  7.773e-06      \t|  1.9639e-05     \t|\n",
      "|  [Callback]GradientAccumulationScheduler.on_epoch_end                                                                                                                                                      \t|  2.5377e-06     \t|  3              \t|  7.613e-06      \t|  1.9235e-05     \t|\n",
      "|  [Callback]GradientAccumulationScheduler.on_validation_epoch_start                                                                                                                                         \t|  3.786e-06      \t|  2              \t|  7.572e-06      \t|  1.9132e-05     \t|\n",
      "|  [Callback]ModelSummary.on_sanity_check_end                                                                                                                                                                \t|  7.427e-06      \t|  1              \t|  7.427e-06      \t|  1.8765e-05     \t|\n",
      "|  [Callback]GradientAccumulationScheduler.on_validation_end                                                                                                                                                 \t|  3.532e-06      \t|  2              \t|  7.064e-06      \t|  1.7848e-05     \t|\n",
      "|  [Callback]ModelSummary.on_pretrain_routine_start                                                                                                                                                          \t|  7.046e-06      \t|  1              \t|  7.046e-06      \t|  1.7803e-05     \t|\n",
      "|  [LightningModule]TwoLayerNet.on_train_dataloader                                                                                                                                                          \t|  6.795e-06      \t|  1              \t|  6.795e-06      \t|  1.7168e-05     \t|\n",
      "|  [Callback]GradientAccumulationScheduler.on_save_checkpoint                                                                                                                                                \t|  6.463e-06      \t|  1              \t|  6.463e-06      \t|  1.633e-05      \t|\n",
      "|  [Strategy]SingleDeviceStrategy.on_train_start                                                                                                                                                             \t|  6.192e-06      \t|  1              \t|  6.192e-06      \t|  1.5645e-05     \t|\n",
      "|  [Callback]GradientAccumulationScheduler.on_pretrain_routine_start                                                                                                                                         \t|  6.187e-06      \t|  1              \t|  6.187e-06      \t|  1.5632e-05     \t|\n",
      "|  [Callback]ModelCheckpoint{'monitor': None, 'mode': 'min', 'every_n_train_steps': 0, 'every_n_epochs': 1, 'train_time_interval': None, 'save_on_train_epoch_end': True}.on_pretrain_routine_start          \t|  6.02e-06       \t|  1              \t|  6.02e-06       \t|  1.521e-05      \t|\n",
      "|  [Callback]ModelSummary.on_validation_epoch_end                                                                                                                                                            \t|  2.8355e-06     \t|  2              \t|  5.671e-06      \t|  1.4328e-05     \t|\n",
      "|  [LightningModule]TwoLayerNet.on_epoch_end                                                                                                                                                                 \t|  1.8593e-06     \t|  3              \t|  5.578e-06      \t|  1.4093e-05     \t|\n",
      "|  [Callback]GradientAccumulationScheduler.on_train_end                                                                                                                                                      \t|  5.516e-06      \t|  1              \t|  5.516e-06      \t|  1.3937e-05     \t|\n",
      "|  [Callback]ModelCheckpoint{'monitor': None, 'mode': 'min', 'every_n_train_steps': 0, 'every_n_epochs': 1, 'train_time_interval': None, 'save_on_train_epoch_end': True}.on_sanity_check_end                \t|  5.32e-06       \t|  1              \t|  5.32e-06       \t|  1.3442e-05     \t|\n",
      "|  [Callback]ModelCheckpoint{'monitor': None, 'mode': 'min', 'every_n_train_steps': 0, 'every_n_epochs': 1, 'train_time_interval': None, 'save_on_train_epoch_end': True}.on_train_end                       \t|  5.285e-06      \t|  1              \t|  5.285e-06      \t|  1.3353e-05     \t|\n",
      "|  [Callback]ModelSummary.on_save_checkpoint                                                                                                                                                                 \t|  5.196e-06      \t|  1              \t|  5.196e-06      \t|  1.3128e-05     \t|\n",
      "|  [Callback]ModelCheckpoint{'monitor': None, 'mode': 'min', 'every_n_train_steps': 0, 'every_n_epochs': 1, 'train_time_interval': None, 'save_on_train_epoch_end': True}.on_validation_epoch_end            \t|  2.586e-06      \t|  2              \t|  5.172e-06      \t|  1.3068e-05     \t|\n",
      "|  [Callback]GradientAccumulationScheduler.on_validation_epoch_end                                                                                                                                           \t|  2.5755e-06     \t|  2              \t|  5.151e-06      \t|  1.3015e-05     \t|\n",
      "|  [Callback]GradientAccumulationScheduler.on_pretrain_routine_end                                                                                                                                           \t|  4.987e-06      \t|  1              \t|  4.987e-06      \t|  1.26e-05       \t|\n",
      "|  [Callback]ModelCheckpoint{'monitor': None, 'mode': 'min', 'every_n_train_steps': 0, 'every_n_epochs': 1, 'train_time_interval': None, 'save_on_train_epoch_end': True}.on_sanity_check_start              \t|  4.831e-06      \t|  1              \t|  4.831e-06      \t|  1.2206e-05     \t|\n",
      "|  [Callback]TQDMProgressBar.on_pretrain_routine_end                                                                                                                                                         \t|  4.735e-06      \t|  1              \t|  4.735e-06      \t|  1.1964e-05     \t|\n",
      "|  [Callback]TQDMProgressBar.teardown                                                                                                                                                                        \t|  4.693e-06      \t|  1              \t|  4.693e-06      \t|  1.1857e-05     \t|\n",
      "|  [Callback]GradientAccumulationScheduler.on_sanity_check_start                                                                                                                                             \t|  4.688e-06      \t|  1              \t|  4.688e-06      \t|  1.1845e-05     \t|\n",
      "|  [Callback]TQDMProgressBar.on_before_accelerator_backend_setup                                                                                                                                             \t|  4.333e-06      \t|  1              \t|  4.333e-06      \t|  1.0948e-05     \t|\n",
      "|  [LightningModule]TwoLayerNet.prepare_data                                                                                                                                                                 \t|  4.233e-06      \t|  1              \t|  4.233e-06      \t|  1.0695e-05     \t|\n",
      "|  [Callback]TQDMProgressBar.on_fit_start                                                                                                                                                                    \t|  4.135e-06      \t|  1              \t|  4.135e-06      \t|  1.0448e-05     \t|\n",
      "|  [Callback]ModelCheckpoint{'monitor': None, 'mode': 'min', 'every_n_train_steps': 0, 'every_n_epochs': 1, 'train_time_interval': None, 'save_on_train_epoch_end': True}.on_pretrain_routine_end            \t|  3.892e-06      \t|  1              \t|  3.892e-06      \t|  9.8336e-06     \t|\n",
      "|  [LightningModule]TwoLayerNet.on_epoch_start                                                                                                                                                               \t|  1.265e-06      \t|  3              \t|  3.795e-06      \t|  9.5885e-06     \t|\n",
      "|  [Callback]TQDMProgressBar.on_configure_sharded_model                                                                                                                                                      \t|  3.771e-06      \t|  1              \t|  3.771e-06      \t|  9.5279e-06     \t|\n",
      "|  [LightningModule]TwoLayerNet.on_pretrain_routine_start                                                                                                                                                    \t|  3.645e-06      \t|  1              \t|  3.645e-06      \t|  9.2095e-06     \t|\n",
      "|  [Callback]ModelSummary.setup                                                                                                                                                                              \t|  3.557e-06      \t|  1              \t|  3.557e-06      \t|  8.9872e-06     \t|\n",
      "|  [Callback]ModelCheckpoint{'monitor': None, 'mode': 'min', 'every_n_train_steps': 0, 'every_n_epochs': 1, 'train_time_interval': None, 'save_on_train_epoch_end': True}.on_train_start                     \t|  3.516e-06      \t|  1              \t|  3.516e-06      \t|  8.8836e-06     \t|\n",
      "|  [LightningModule]TwoLayerNet.on_validation_start                                                                                                                                                          \t|  1.7445e-06     \t|  2              \t|  3.489e-06      \t|  8.8154e-06     \t|\n",
      "|  [Callback]ModelCheckpoint{'monitor': None, 'mode': 'min', 'every_n_train_steps': 0, 'every_n_epochs': 1, 'train_time_interval': None, 'save_on_train_epoch_end': True}.on_save_checkpoint                 \t|  3.432e-06      \t|  1              \t|  3.432e-06      \t|  8.6713e-06     \t|\n",
      "|  [Callback]ModelCheckpoint{'monitor': None, 'mode': 'min', 'every_n_train_steps': 0, 'every_n_epochs': 1, 'train_time_interval': None, 'save_on_train_epoch_end': True}.on_fit_start                       \t|  3.303e-06      \t|  1              \t|  3.303e-06      \t|  8.3454e-06     \t|\n",
      "|  [Strategy]SingleDeviceStrategy.on_validation_start                                                                                                                                                        \t|  1.6435e-06     \t|  2              \t|  3.287e-06      \t|  8.305e-06      \t|\n",
      "|  [Callback]ModelSummary.on_pretrain_routine_end                                                                                                                                                            \t|  3.276e-06      \t|  1              \t|  3.276e-06      \t|  8.2772e-06     \t|\n",
      "|  [LightningModule]TwoLayerNet.on_validation_epoch_start                                                                                                                                                    \t|  1.6315e-06     \t|  2              \t|  3.263e-06      \t|  8.2443e-06     \t|\n",
      "|  [LightningModule]TwoLayerNet.on_train_epoch_end                                                                                                                                                           \t|  2.977e-06      \t|  1              \t|  2.977e-06      \t|  7.5217e-06     \t|\n",
      "|  [LightningModule]TwoLayerNet.on_validation_end                                                                                                                                                            \t|  1.4285e-06     \t|  2              \t|  2.857e-06      \t|  7.2185e-06     \t|\n",
      "|  [Callback]GradientAccumulationScheduler.setup                                                                                                                                                             \t|  2.809e-06      \t|  1              \t|  2.809e-06      \t|  7.0973e-06     \t|\n",
      "|  [Callback]GradientAccumulationScheduler.on_sanity_check_end                                                                                                                                               \t|  2.733e-06      \t|  1              \t|  2.733e-06      \t|  6.9052e-06     \t|\n",
      "|  [Callback]GradientAccumulationScheduler.on_train_epoch_end                                                                                                                                                \t|  2.688e-06      \t|  1              \t|  2.688e-06      \t|  6.7915e-06     \t|\n",
      "|  [Callback]GradientAccumulationScheduler.on_train_start                                                                                                                                                    \t|  2.616e-06      \t|  1              \t|  2.616e-06      \t|  6.6096e-06     \t|\n",
      "|  [Callback]ModelCheckpoint{'monitor': None, 'mode': 'min', 'every_n_train_steps': 0, 'every_n_epochs': 1, 'train_time_interval': None, 'save_on_train_epoch_end': True}.on_configure_sharded_model         \t|  2.605e-06      \t|  1              \t|  2.605e-06      \t|  6.5818e-06     \t|\n",
      "|  [Callback]ModelCheckpoint{'monitor': None, 'mode': 'min', 'every_n_train_steps': 0, 'every_n_epochs': 1, 'train_time_interval': None, 'save_on_train_epoch_end': True}.on_train_epoch_start               \t|  2.536e-06      \t|  1              \t|  2.536e-06      \t|  6.4075e-06     \t|\n",
      "|  [LightningModule]TwoLayerNet.configure_sharded_model                                                                                                                                                      \t|  2.502e-06      \t|  1              \t|  2.502e-06      \t|  6.3216e-06     \t|\n",
      "|  [LightningModule]TwoLayerNet.configure_callbacks                                                                                                                                                          \t|  2.489e-06      \t|  1              \t|  2.489e-06      \t|  6.2887e-06     \t|\n",
      "|  [Callback]ModelSummary.on_fit_end                                                                                                                                                                         \t|  2.452e-06      \t|  1              \t|  2.452e-06      \t|  6.1953e-06     \t|\n",
      "|  [Callback]ModelSummary.on_configure_sharded_model                                                                                                                                                         \t|  2.392e-06      \t|  1              \t|  2.392e-06      \t|  6.0437e-06     \t|\n",
      "|  [Callback]ModelCheckpoint{'monitor': None, 'mode': 'min', 'every_n_train_steps': 0, 'every_n_epochs': 1, 'train_time_interval': None, 'save_on_train_epoch_end': True}.on_fit_end                         \t|  2.371e-06      \t|  1              \t|  2.371e-06      \t|  5.9906e-06     \t|\n",
      "|  [Callback]ModelSummary.teardown                                                                                                                                                                           \t|  2.24e-06       \t|  1              \t|  2.24e-06       \t|  5.6596e-06     \t|\n",
      "|  [Callback]GradientAccumulationScheduler.on_configure_sharded_model                                                                                                                                        \t|  2.236e-06      \t|  1              \t|  2.236e-06      \t|  5.6495e-06     \t|\n",
      "|  [LightningModule]TwoLayerNet.on_pretrain_routine_end                                                                                                                                                      \t|  2.201e-06      \t|  1              \t|  2.201e-06      \t|  5.5611e-06     \t|\n",
      "|  [Callback]ModelCheckpoint{'monitor': None, 'mode': 'min', 'every_n_train_steps': 0, 'every_n_epochs': 1, 'train_time_interval': None, 'save_on_train_epoch_end': True}.teardown                           \t|  2.188e-06      \t|  1              \t|  2.188e-06      \t|  5.5282e-06     \t|\n",
      "|  [Callback]ModelSummary.on_before_accelerator_backend_setup                                                                                                                                                \t|  2.137e-06      \t|  1              \t|  2.137e-06      \t|  5.3994e-06     \t|\n",
      "|  [Callback]GradientAccumulationScheduler.teardown                                                                                                                                                          \t|  2.115e-06      \t|  1              \t|  2.115e-06      \t|  5.3438e-06     \t|\n",
      "|  [Callback]GradientAccumulationScheduler.on_fit_end                                                                                                                                                        \t|  2.058e-06      \t|  1              \t|  2.058e-06      \t|  5.1998e-06     \t|\n",
      "|  [Callback]ModelCheckpoint{'monitor': None, 'mode': 'min', 'every_n_train_steps': 0, 'every_n_epochs': 1, 'train_time_interval': None, 'save_on_train_epoch_end': None}.on_before_accelerator_backend_setup\t|  2.004e-06      \t|  1              \t|  2.004e-06      \t|  5.0633e-06     \t|\n",
      "|  [LightningModule]TwoLayerNet.on_train_end                                                                                                                                                                 \t|  1.878e-06      \t|  1              \t|  1.878e-06      \t|  4.745e-06      \t|\n",
      "|  [LightningModule]TwoLayerNet.setup                                                                                                                                                                        \t|  1.87e-06       \t|  1              \t|  1.87e-06       \t|  4.7248e-06     \t|\n",
      "|  [Strategy]SingleDeviceStrategy.on_train_end                                                                                                                                                               \t|  1.87e-06       \t|  1              \t|  1.87e-06       \t|  4.7248e-06     \t|\n",
      "|  [LightningModule]TwoLayerNet.on_val_dataloader                                                                                                                                                            \t|  1.866e-06      \t|  1              \t|  1.866e-06      \t|  4.7147e-06     \t|\n",
      "|  [Callback]GradientAccumulationScheduler.on_before_accelerator_backend_setup                                                                                                                               \t|  1.765e-06      \t|  1              \t|  1.765e-06      \t|  4.4595e-06     \t|\n",
      "|  [LightningModule]TwoLayerNet.on_fit_start                                                                                                                                                                 \t|  1.764e-06      \t|  1              \t|  1.764e-06      \t|  4.457e-06      \t|\n",
      "|  [LightningModule]TwoLayerNet.on_fit_end                                                                                                                                                                   \t|  1.397e-06      \t|  1              \t|  1.397e-06      \t|  3.5297e-06     \t|\n",
      "|  [LightningModule]TwoLayerNet.on_train_epoch_start                                                                                                                                                         \t|  1.191e-06      \t|  1              \t|  1.191e-06      \t|  3.0092e-06     \t|\n",
      "|  [LightningModule]TwoLayerNet.on_save_checkpoint                                                                                                                                                           \t|  1.099e-06      \t|  1              \t|  1.099e-06      \t|  2.7768e-06     \t|\n",
      "|  [LightningModule]TwoLayerNet.on_train_start                                                                                                                                                               \t|  1.056e-06      \t|  1              \t|  1.056e-06      \t|  2.6681e-06     \t|\n",
      "|  [LightningModule]TwoLayerNet.teardown                                                                                                                                                                     \t|  9.64e-07       \t|  1              \t|  9.64e-07       \t|  2.4357e-06     \t|\n",
      "------------------------------------------------------------------------------------------------------------------------------------------------------------------------------------------------------------------------------------------------------------------------------------------------------------------\n",
      "\n"
     ]
    }
   ],
   "source": [
    "trainer = pl.Trainer(\n",
    "    profiler='simple',\n",
    "    max_epochs=1,\n",
    "    # gpus=1 # Use GPU if available\n",
    "   \n",
    ")\n",
    "\n",
    "trainer.fit(model, data)"
   ]
  },
  {
   "cell_type": "markdown",
   "metadata": {},
   "source": [
    "We can see an overview of the time taken for different steps.\n",
    "This  enables us to detect bottlenecks in the model more easily. A bottleneck can be, for example, long times in dataloading. It becomes very important later, especially, when you start to implement custom layers or loss functions."
   ]
  },
  {
   "cell_type": "markdown",
   "metadata": {},
   "source": [
    "### Some more debugging Options\n",
    "\n",
    "* [`fast_dev_run`](https://pytorch-lightning.readthedocs.io/en/latest/trainer.html#fast-dev-run): Runs of batch of each train, validation and test pass (if validation and test datalaoders are passed as arguments).This is a fast way to check if everything works (dataloading, validation metric, model saving/ loading) without having to wait for a full epoch.\n",
    "\n",
    "* [`track_grad_norm`](https://pytorch-lightning.readthedocs.io/en/latest/trainer.html#track-grad-norm): Logs the  norm of the gradients (set to `1` for the $L1$ norm or `2` for the $L2$ norm) for each layer. You can check whether the network is actually doing something. If the gradients are too small or too high, you won't have a good training (due to vanishing/ exploding gradients).\n",
    "\n",
    "\n",
    "### Other Features\n",
    "\n",
    "Finally, we want to mention some other useful options in the Trainer class:\n",
    "\n",
    "* [`resume_from_checkpoint`](https://pytorch-lightning.readthedocs.io/en/latest/trainer.html#resume-from-checkpoint): Start the training from a checkpoint saved earlier. Argument is the path to the saved model file.\n",
    "* [`Callbacks`](https://pytorch-lightning.readthedocs.io/en/latest/callbacks.html#callback): Callbacks are extremely useful system during training that automate non essential code such as  storing model checkpoints , saving weights values among others.\n",
    "\n",
    "Let's have the look at the [`EarlyStopping`](https://pytorch-lightning.readthedocs.io/en/latest/early_stopping.html#early-stopping-based-on-metric-using-the-earlystopping-callback)  callback.\n",
    "\n",
    "It interrupts the training if the `monitor` metric variable does not  improve for `patience` number of epochs.\n",
    "\n",
    "Below is a code example on how to apply it!\n",
    "\n",
    "```python\n",
    "from pytorch_lightning.callbacks.early_stopping import EarlyStopping\n",
    "\n",
    "early_stop_callback = EarlyStopping(\n",
    "   monitor='val_accuracy',\n",
    "   patience=3,\n",
    "   verbose=False,\n",
    "   mode='max'\n",
    ")\n",
    "\n",
    "trainer = Trainer(max_epochs=10,callbacks=[early_stop_callback])\n",
    "```\n",
    "\n",
    "Your journey with pytorch lightning will force you to check out a bunch of callbacks to return the desired functions without having to write the respective code yourself. Or you hack it in, do as you wish :)."
   ]
  },
  {
   "cell_type": "markdown",
   "metadata": {},
   "source": [
    "## References\n",
    "\n",
    "1. PyTorch Lightining [`Source Code`](https://github.com/PyTorchLightning/pytorch-lightning) with a nice introduction \n",
    "2. PyTorch Lightining [`Documentation`](https://pytorch-lightning.readthedocs.io/en/latest/#)  Explore it! The features are very well explained. "
   ]
  }
 ],
 "metadata": {
  "kernelspec": {
   "display_name": "Python 3 (ipykernel)",
   "language": "python",
   "name": "python3"
  },
  "language_info": {
   "codemirror_mode": {
    "name": "ipython",
    "version": 3
   },
   "file_extension": ".py",
   "mimetype": "text/x-python",
   "name": "python",
   "nbconvert_exporter": "python",
   "pygments_lexer": "ipython3",
   "version": "3.9.12"
  },
  "vscode": {
   "interpreter": {
    "hash": "28f8fc0555b2397d3d1812f8a455edc55d009393238402a7581b58dcc48b0a7c"
   }
  }
 },
 "nbformat": 4,
 "nbformat_minor": 2
}
